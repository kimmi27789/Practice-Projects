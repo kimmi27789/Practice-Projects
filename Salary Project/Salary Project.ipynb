{
 "cells": [
  {
   "cell_type": "markdown",
   "id": "39934979",
   "metadata": {},
   "source": [
    "we need to Predict the salary if the employee using the features provided in the data. \n",
    "https://github.com/kimmi27789/dataset3/blob/main/Salaries.csv"
   ]
  },
  {
   "cell_type": "markdown",
   "id": "fe1e5175",
   "metadata": {},
   "source": [
    "# Import Libraries"
   ]
  },
  {
   "cell_type": "code",
   "execution_count": 54,
   "id": "fc99d1d4",
   "metadata": {},
   "outputs": [],
   "source": [
    "#import libraries to do EDA Process \n",
    "import numpy as np\n",
    "import pandas as pd\n",
    "import matplotlib.pyplot as plt\n",
    "import seaborn as sns\n",
    "import sklearn\n",
    "from sklearn import preprocessing\n",
    "\n",
    "import warnings\n",
    "warnings.filterwarnings('ignore')\n",
    "warnings.simplefilter('ignore')"
   ]
  },
  {
   "cell_type": "markdown",
   "id": "49960ff9",
   "metadata": {},
   "source": [
    "# Import Data Set"
   ]
  },
  {
   "cell_type": "code",
   "execution_count": 188,
   "id": "8db5bbb5",
   "metadata": {},
   "outputs": [
    {
     "data": {
      "text/html": [
       "<div>\n",
       "<style scoped>\n",
       "    .dataframe tbody tr th:only-of-type {\n",
       "        vertical-align: middle;\n",
       "    }\n",
       "\n",
       "    .dataframe tbody tr th {\n",
       "        vertical-align: top;\n",
       "    }\n",
       "\n",
       "    .dataframe thead th {\n",
       "        text-align: right;\n",
       "    }\n",
       "</style>\n",
       "<table border=\"1\" class=\"dataframe\">\n",
       "  <thead>\n",
       "    <tr style=\"text-align: right;\">\n",
       "      <th></th>\n",
       "      <th>rank</th>\n",
       "      <th>discipline</th>\n",
       "      <th>yrs.since.phd</th>\n",
       "      <th>yrs.service</th>\n",
       "      <th>sex</th>\n",
       "      <th>salary</th>\n",
       "    </tr>\n",
       "  </thead>\n",
       "  <tbody>\n",
       "    <tr>\n",
       "      <th>0</th>\n",
       "      <td>Prof</td>\n",
       "      <td>B</td>\n",
       "      <td>19</td>\n",
       "      <td>18</td>\n",
       "      <td>Male</td>\n",
       "      <td>139750</td>\n",
       "    </tr>\n",
       "    <tr>\n",
       "      <th>1</th>\n",
       "      <td>Prof</td>\n",
       "      <td>B</td>\n",
       "      <td>20</td>\n",
       "      <td>16</td>\n",
       "      <td>Male</td>\n",
       "      <td>173200</td>\n",
       "    </tr>\n",
       "    <tr>\n",
       "      <th>2</th>\n",
       "      <td>AsstProf</td>\n",
       "      <td>B</td>\n",
       "      <td>4</td>\n",
       "      <td>3</td>\n",
       "      <td>Male</td>\n",
       "      <td>79750</td>\n",
       "    </tr>\n",
       "    <tr>\n",
       "      <th>3</th>\n",
       "      <td>Prof</td>\n",
       "      <td>B</td>\n",
       "      <td>45</td>\n",
       "      <td>39</td>\n",
       "      <td>Male</td>\n",
       "      <td>115000</td>\n",
       "    </tr>\n",
       "    <tr>\n",
       "      <th>4</th>\n",
       "      <td>Prof</td>\n",
       "      <td>B</td>\n",
       "      <td>40</td>\n",
       "      <td>41</td>\n",
       "      <td>Male</td>\n",
       "      <td>141500</td>\n",
       "    </tr>\n",
       "  </tbody>\n",
       "</table>\n",
       "</div>"
      ],
      "text/plain": [
       "       rank discipline  yrs.since.phd  yrs.service   sex  salary\n",
       "0      Prof          B             19           18  Male  139750\n",
       "1      Prof          B             20           16  Male  173200\n",
       "2  AsstProf          B              4            3  Male   79750\n",
       "3      Prof          B             45           39  Male  115000\n",
       "4      Prof          B             40           41  Male  141500"
      ]
     },
     "execution_count": 188,
     "metadata": {},
     "output_type": "execute_result"
    }
   ],
   "source": [
    "#import data set\n",
    "df = pd.read_csv('Salaries.csv')\n",
    "df.head() #first 5 rows of salary data set"
   ]
  },
  {
   "cell_type": "markdown",
   "id": "8a1f7b95",
   "metadata": {},
   "source": [
    "# Descriptive Analysis"
   ]
  },
  {
   "cell_type": "code",
   "execution_count": 189,
   "id": "0856cbe3",
   "metadata": {},
   "outputs": [
    {
     "data": {
      "text/plain": [
       "Index(['rank', 'discipline', 'yrs.since.phd', 'yrs.service', 'sex', 'salary'], dtype='object')"
      ]
     },
     "execution_count": 189,
     "metadata": {},
     "output_type": "execute_result"
    }
   ],
   "source": [
    "df.columns"
   ]
  },
  {
   "cell_type": "markdown",
   "id": "5d360ac7",
   "metadata": {},
   "source": [
    "Observations\n",
    "- there are in total 6 columns in the dataset\n",
    "- RANK - this is about the designation of the person\n",
    "- Discipline - there are 2 different disciplines/working domains\n",
    "- yrs.since.phd - this tells about how many years ago person did his/her phd\n",
    "- yrs.service - this tells about the work experience of the person\n",
    "- sex - this tells about the gender of the person\n",
    "- salary - this tells the current salary of that person"
   ]
  },
  {
   "cell_type": "code",
   "execution_count": 190,
   "id": "6e5e8441",
   "metadata": {},
   "outputs": [
    {
     "name": "stdout",
     "output_type": "stream",
     "text": [
      "<class 'pandas.core.frame.DataFrame'>\n",
      "RangeIndex: 397 entries, 0 to 396\n",
      "Data columns (total 6 columns):\n",
      " #   Column         Non-Null Count  Dtype \n",
      "---  ------         --------------  ----- \n",
      " 0   rank           397 non-null    object\n",
      " 1   discipline     397 non-null    object\n",
      " 2   yrs.since.phd  397 non-null    int64 \n",
      " 3   yrs.service    397 non-null    int64 \n",
      " 4   sex            397 non-null    object\n",
      " 5   salary         397 non-null    int64 \n",
      "dtypes: int64(3), object(3)\n",
      "memory usage: 18.7+ KB\n"
     ]
    }
   ],
   "source": [
    "df.info() #info to the data frame "
   ]
  },
  {
   "cell_type": "markdown",
   "id": "f84bc936",
   "metadata": {},
   "source": [
    "Observations - \n",
    "- dataset contains total 397 entries\n",
    "- there are total 6 columns\n",
    "- 3 columns contain numerical data yrs.since.phd, yrs.service, salary which is of integer type\n",
    "- 3 columns contains categorical data rank, discipline, sex \n",
    "- there is no null data\n",
    "- total memory usage is 18+kb"
   ]
  },
  {
   "cell_type": "code",
   "execution_count": 191,
   "id": "0d739887",
   "metadata": {},
   "outputs": [
    {
     "data": {
      "text/html": [
       "<div>\n",
       "<style scoped>\n",
       "    .dataframe tbody tr th:only-of-type {\n",
       "        vertical-align: middle;\n",
       "    }\n",
       "\n",
       "    .dataframe tbody tr th {\n",
       "        vertical-align: top;\n",
       "    }\n",
       "\n",
       "    .dataframe thead th {\n",
       "        text-align: right;\n",
       "    }\n",
       "</style>\n",
       "<table border=\"1\" class=\"dataframe\">\n",
       "  <thead>\n",
       "    <tr style=\"text-align: right;\">\n",
       "      <th></th>\n",
       "      <th>rank</th>\n",
       "      <th>discipline</th>\n",
       "      <th>yrs.since.phd</th>\n",
       "      <th>yrs.service</th>\n",
       "      <th>sex</th>\n",
       "      <th>salary</th>\n",
       "    </tr>\n",
       "  </thead>\n",
       "  <tbody>\n",
       "    <tr>\n",
       "      <th>count</th>\n",
       "      <td>397</td>\n",
       "      <td>397</td>\n",
       "      <td>397.000000</td>\n",
       "      <td>397.000000</td>\n",
       "      <td>397</td>\n",
       "      <td>397.000000</td>\n",
       "    </tr>\n",
       "    <tr>\n",
       "      <th>unique</th>\n",
       "      <td>3</td>\n",
       "      <td>2</td>\n",
       "      <td>NaN</td>\n",
       "      <td>NaN</td>\n",
       "      <td>2</td>\n",
       "      <td>NaN</td>\n",
       "    </tr>\n",
       "    <tr>\n",
       "      <th>top</th>\n",
       "      <td>Prof</td>\n",
       "      <td>B</td>\n",
       "      <td>NaN</td>\n",
       "      <td>NaN</td>\n",
       "      <td>Male</td>\n",
       "      <td>NaN</td>\n",
       "    </tr>\n",
       "    <tr>\n",
       "      <th>freq</th>\n",
       "      <td>266</td>\n",
       "      <td>216</td>\n",
       "      <td>NaN</td>\n",
       "      <td>NaN</td>\n",
       "      <td>358</td>\n",
       "      <td>NaN</td>\n",
       "    </tr>\n",
       "    <tr>\n",
       "      <th>mean</th>\n",
       "      <td>NaN</td>\n",
       "      <td>NaN</td>\n",
       "      <td>22.314861</td>\n",
       "      <td>17.614610</td>\n",
       "      <td>NaN</td>\n",
       "      <td>113706.458438</td>\n",
       "    </tr>\n",
       "    <tr>\n",
       "      <th>std</th>\n",
       "      <td>NaN</td>\n",
       "      <td>NaN</td>\n",
       "      <td>12.887003</td>\n",
       "      <td>13.006024</td>\n",
       "      <td>NaN</td>\n",
       "      <td>30289.038695</td>\n",
       "    </tr>\n",
       "    <tr>\n",
       "      <th>min</th>\n",
       "      <td>NaN</td>\n",
       "      <td>NaN</td>\n",
       "      <td>1.000000</td>\n",
       "      <td>0.000000</td>\n",
       "      <td>NaN</td>\n",
       "      <td>57800.000000</td>\n",
       "    </tr>\n",
       "    <tr>\n",
       "      <th>25%</th>\n",
       "      <td>NaN</td>\n",
       "      <td>NaN</td>\n",
       "      <td>12.000000</td>\n",
       "      <td>7.000000</td>\n",
       "      <td>NaN</td>\n",
       "      <td>91000.000000</td>\n",
       "    </tr>\n",
       "    <tr>\n",
       "      <th>50%</th>\n",
       "      <td>NaN</td>\n",
       "      <td>NaN</td>\n",
       "      <td>21.000000</td>\n",
       "      <td>16.000000</td>\n",
       "      <td>NaN</td>\n",
       "      <td>107300.000000</td>\n",
       "    </tr>\n",
       "    <tr>\n",
       "      <th>75%</th>\n",
       "      <td>NaN</td>\n",
       "      <td>NaN</td>\n",
       "      <td>32.000000</td>\n",
       "      <td>27.000000</td>\n",
       "      <td>NaN</td>\n",
       "      <td>134185.000000</td>\n",
       "    </tr>\n",
       "    <tr>\n",
       "      <th>max</th>\n",
       "      <td>NaN</td>\n",
       "      <td>NaN</td>\n",
       "      <td>56.000000</td>\n",
       "      <td>60.000000</td>\n",
       "      <td>NaN</td>\n",
       "      <td>231545.000000</td>\n",
       "    </tr>\n",
       "  </tbody>\n",
       "</table>\n",
       "</div>"
      ],
      "text/plain": [
       "        rank discipline  yrs.since.phd  yrs.service   sex         salary\n",
       "count    397        397     397.000000   397.000000   397     397.000000\n",
       "unique     3          2            NaN          NaN     2            NaN\n",
       "top     Prof          B            NaN          NaN  Male            NaN\n",
       "freq     266        216            NaN          NaN   358            NaN\n",
       "mean     NaN        NaN      22.314861    17.614610   NaN  113706.458438\n",
       "std      NaN        NaN      12.887003    13.006024   NaN   30289.038695\n",
       "min      NaN        NaN       1.000000     0.000000   NaN   57800.000000\n",
       "25%      NaN        NaN      12.000000     7.000000   NaN   91000.000000\n",
       "50%      NaN        NaN      21.000000    16.000000   NaN  107300.000000\n",
       "75%      NaN        NaN      32.000000    27.000000   NaN  134185.000000\n",
       "max      NaN        NaN      56.000000    60.000000   NaN  231545.000000"
      ]
     },
     "execution_count": 191,
     "metadata": {},
     "output_type": "execute_result"
    }
   ],
   "source": [
    "df.describe(include='all')"
   ]
  },
  {
   "cell_type": "markdown",
   "id": "2de6e906",
   "metadata": {},
   "source": [
    "Observations\n",
    "- RANK - there are 3 unique ranks and 266 entries are for prof rank\n",
    "- Discipline - there are majorly 2 discipline and max entries ie 216 are for displine B\n",
    "- Sex - there are 2 unique values in this field and max employee are male (358)\n",
    "- yrs.since.phd - min year = 1 , max year = 56, mean = 22.31, std = 12.88 and 50% of employee have phd years below 21 years\n",
    "- yrs.service - min exp = 0 , max exp = 60, mean = 17.61, std = 13, 50% of employee have exp below 16 years\n",
    "- salary - min salary = 57800, max salary = 231545, mean = 113706, std = 30289, 50% of employee have salary below 107300"
   ]
  },
  {
   "cell_type": "markdown",
   "id": "1ad4fc30",
   "metadata": {},
   "source": [
    "# Null Value Analysis"
   ]
  },
  {
   "cell_type": "code",
   "execution_count": 192,
   "id": "99650035",
   "metadata": {},
   "outputs": [
    {
     "data": {
      "text/plain": [
       "rank             0\n",
       "discipline       0\n",
       "yrs.since.phd    0\n",
       "yrs.service      0\n",
       "sex              0\n",
       "salary           0\n",
       "dtype: int64"
      ]
     },
     "execution_count": 192,
     "metadata": {},
     "output_type": "execute_result"
    }
   ],
   "source": [
    "df.isnull().sum() #to find the null/undefined data in the data set"
   ]
  },
  {
   "cell_type": "markdown",
   "id": "c7808eb6",
   "metadata": {},
   "source": [
    "Observation-\n",
    "- There is no null data throughout the dataset, hence imputation not required"
   ]
  },
  {
   "cell_type": "markdown",
   "id": "5e64589d",
   "metadata": {},
   "source": [
    "# Duplicate Data Analysis"
   ]
  },
  {
   "cell_type": "code",
   "execution_count": 193,
   "id": "57dc10c4",
   "metadata": {},
   "outputs": [],
   "source": [
    "df.drop_duplicates(inplace=True)"
   ]
  },
  {
   "cell_type": "code",
   "execution_count": 194,
   "id": "4b23de8b",
   "metadata": {},
   "outputs": [
    {
     "name": "stdout",
     "output_type": "stream",
     "text": [
      "<class 'pandas.core.frame.DataFrame'>\n",
      "Int64Index: 393 entries, 0 to 396\n",
      "Data columns (total 6 columns):\n",
      " #   Column         Non-Null Count  Dtype \n",
      "---  ------         --------------  ----- \n",
      " 0   rank           393 non-null    object\n",
      " 1   discipline     393 non-null    object\n",
      " 2   yrs.since.phd  393 non-null    int64 \n",
      " 3   yrs.service    393 non-null    int64 \n",
      " 4   sex            393 non-null    object\n",
      " 5   salary         393 non-null    int64 \n",
      "dtypes: int64(3), object(3)\n",
      "memory usage: 21.5+ KB\n"
     ]
    }
   ],
   "source": [
    "df.info()"
   ]
  },
  {
   "cell_type": "markdown",
   "id": "03769916",
   "metadata": {},
   "source": [
    "Observation\n",
    "- Intially there were 397 row and now it is 393 after removing duplicate rows"
   ]
  },
  {
   "cell_type": "markdown",
   "id": "f386b477",
   "metadata": {},
   "source": [
    "# Catogorical Data Analysis"
   ]
  },
  {
   "cell_type": "markdown",
   "id": "6393fca5",
   "metadata": {},
   "source": [
    "1) RANK"
   ]
  },
  {
   "cell_type": "code",
   "execution_count": 195,
   "id": "7c736b04",
   "metadata": {},
   "outputs": [
    {
     "data": {
      "text/plain": [
       "Prof         266\n",
       "AssocProf     64\n",
       "AsstProf      63\n",
       "Name: rank, dtype: int64"
      ]
     },
     "execution_count": 195,
     "metadata": {},
     "output_type": "execute_result"
    }
   ],
   "source": [
    "df['rank'].value_counts()"
   ]
  },
  {
   "cell_type": "markdown",
   "id": "775c5be4",
   "metadata": {},
   "source": [
    "Observation - there are 266 Professors, 64 Assoc Professors and 63 Asst Professors in the dataset, hence Professors are in large number as compared to other disgnations."
   ]
  },
  {
   "cell_type": "markdown",
   "id": "69341988",
   "metadata": {},
   "source": [
    "2) DISCIPLINE"
   ]
  },
  {
   "cell_type": "code",
   "execution_count": 196,
   "id": "5aa26666",
   "metadata": {},
   "outputs": [
    {
     "data": {
      "text/plain": [
       "B    212\n",
       "A    181\n",
       "Name: discipline, dtype: int64"
      ]
     },
     "execution_count": 196,
     "metadata": {},
     "output_type": "execute_result"
    }
   ],
   "source": [
    "df['discipline'].value_counts()"
   ]
  },
  {
   "cell_type": "markdown",
   "id": "16393072",
   "metadata": {},
   "source": [
    "Observation - 212 employee are working under division A and 181 are working under division B, employee are almost equally divided under 2 divisions"
   ]
  },
  {
   "cell_type": "markdown",
   "id": "2237f921",
   "metadata": {},
   "source": [
    "3) GENDER"
   ]
  },
  {
   "cell_type": "code",
   "execution_count": 197,
   "id": "cd5842f4",
   "metadata": {},
   "outputs": [
    {
     "data": {
      "text/plain": [
       "Male      354\n",
       "Female     39\n",
       "Name: sex, dtype: int64"
      ]
     },
     "execution_count": 197,
     "metadata": {},
     "output_type": "execute_result"
    }
   ],
   "source": [
    "df['sex'].value_counts()"
   ]
  },
  {
   "cell_type": "markdown",
   "id": "0f4506e6",
   "metadata": {},
   "source": [
    "Observation - 354 employee are Male while 39 are female, hence male are in comparatively large number"
   ]
  },
  {
   "cell_type": "markdown",
   "id": "c4c71b3e",
   "metadata": {},
   "source": [
    "# Visualizing Categorical Data"
   ]
  },
  {
   "cell_type": "code",
   "execution_count": 198,
   "id": "324459e9",
   "metadata": {},
   "outputs": [
    {
     "data": {
      "image/png": "[encoded data removed]",
      "text/plain": [
       "<Figure size 1800x360 with 3 Axes>"
      ]
     },
     "metadata": {
      "needs_background": "light"
     },
     "output_type": "display_data"
    }
   ],
   "source": [
    "plt.figure(figsize=(25,5))\n",
    "\n",
    "plt.subplot(1,3,1)\n",
    "rank = sns.barplot(x=df['rank'].value_counts().index, y = df['rank'].value_counts())\n",
    "\n",
    "plt.subplot(1,3,2)\n",
    "rank = sns.barplot(x=df['discipline'].value_counts().index, y = df['discipline'].value_counts())\n",
    "\n",
    "plt.subplot(1,3,3)\n",
    "rank = sns.barplot(x=df['sex'].value_counts().index, y = df['sex'].value_counts())"
   ]
  },
  {
   "cell_type": "markdown",
   "id": "592cfbbe",
   "metadata": {},
   "source": [
    "Observation -\n",
    "- can clearly see max no. of employee are Professors in the data set, who are male"
   ]
  },
  {
   "cell_type": "markdown",
   "id": "5bd0e4ad",
   "metadata": {},
   "source": [
    "# Analysing Salary Variation wrt Categorical Data"
   ]
  },
  {
   "cell_type": "code",
   "execution_count": 199,
   "id": "390ae0b2",
   "metadata": {},
   "outputs": [
    {
     "data": {
      "image/png": "[encoded data removed]",
      "text/plain": [
       "<Figure size 1440x576 with 2 Axes>"
      ]
     },
     "metadata": {
      "needs_background": "light"
     },
     "output_type": "display_data"
    }
   ],
   "source": [
    "plt.figure(figsize=(20,8))\n",
    "\n",
    "plt.subplot(1,2,1)\n",
    "sns.stripplot(x=\"rank\", y=\"salary\", hue=\"sex\", data=df)\n",
    "plt.subplot(1,2,2)\n",
    "sns.stripplot(x=\"discipline\", y=\"salary\", hue=\"sex\",data=df)\n",
    "plt.show()"
   ]
  },
  {
   "cell_type": "markdown",
   "id": "b801c152",
   "metadata": {},
   "source": [
    "Observation - \n",
    "- Salary is higher for Professors and minimum for Asst professors but not impacted much by disciplines\n",
    "- Females are less as compared to the male"
   ]
  },
  {
   "cell_type": "markdown",
   "id": "b78cb5b2",
   "metadata": {},
   "source": [
    "# Visualizing phd years, service years, salary wrt rank"
   ]
  },
  {
   "cell_type": "code",
   "execution_count": 200,
   "id": "89753f7c",
   "metadata": {},
   "outputs": [
    {
     "data": {
      "text/plain": [
       "<AxesSubplot:xlabel='salary', ylabel='Count'>"
      ]
     },
     "execution_count": 200,
     "metadata": {},
     "output_type": "execute_result"
    },
    {
     "data": {
      "image/png": "[encoded data removed]",
      "text/plain": [
       "<Figure size 1440x360 with 3 Axes>"
      ]
     },
     "metadata": {
      "needs_background": "light"
     },
     "output_type": "display_data"
    }
   ],
   "source": [
    "plt.figure(figsize=(20,5))\n",
    "\n",
    "plt.subplot(1,3,1)\n",
    "sns.histplot(data = df, x='yrs.since.phd',hue = 'rank', color='g',kde=True, element='step')\n",
    "\n",
    "plt.subplot(1,3,2)\n",
    "sns.histplot(data = df, x='yrs.service',hue = 'rank', color='b',kde=True, element='step')\n",
    "\n",
    "plt.subplot(1,3,3)\n",
    "sns.histplot(data = df, x='salary',hue = 'rank', color='r',kde=True, element='step')"
   ]
  },
  {
   "cell_type": "markdown",
   "id": "3576d885",
   "metadata": {},
   "source": [
    "Observation - \n",
    "- Higher number of professors have done phd far ago than assoc professors or assistant Professors\n",
    "- Professors have higher service experience than other ranks\n",
    "- Professors are offered higher salaries than other ranks"
   ]
  },
  {
   "cell_type": "markdown",
   "id": "75e547ed",
   "metadata": {},
   "source": [
    "# Visualizing Salary variation wrt phd years and service years "
   ]
  },
  {
   "cell_type": "code",
   "execution_count": 201,
   "id": "3d1e7fa6",
   "metadata": {},
   "outputs": [
    {
     "data": {
      "text/plain": [
       "<AxesSubplot:xlabel='yrs.service', ylabel='salary'>"
      ]
     },
     "execution_count": 201,
     "metadata": {},
     "output_type": "execute_result"
    },
    {
     "data": {
      "image/png": "[encoded data removed]",
      "text/plain": [
       "<Figure size 1440x360 with 2 Axes>"
      ]
     },
     "metadata": {
      "needs_background": "light"
     },
     "output_type": "display_data"
    }
   ],
   "source": [
    "plt.figure(figsize=(20,5))\n",
    "plt.subplot(1,2,1)\n",
    "sns.scatterplot(x=\"yrs.since.phd\",y=\"salary\",hue='rank',data=df)\n",
    "plt.subplot(1,2,2)\n",
    "sns.scatterplot(x=\"yrs.service\",y=\"salary\",hue='rank', data=df)"
   ]
  },
  {
   "cell_type": "markdown",
   "id": "8a94d4f1",
   "metadata": {},
   "source": [
    "Observation-\n",
    "- Salary is increasing by an increase in the number of years since phd\n",
    "- Salaries are higher at 15-25 years of service\n",
    "- Professors have higher salaries, service experiences and years since phd"
   ]
  },
  {
   "cell_type": "markdown",
   "id": "656db69f",
   "metadata": {},
   "source": [
    "# Visualizing all data together"
   ]
  },
  {
   "cell_type": "code",
   "execution_count": 202,
   "id": "eda081e8",
   "metadata": {},
   "outputs": [
    {
     "data": {
      "text/plain": [
       "<seaborn.axisgrid.PairGrid at 0x22b3205e220>"
      ]
     },
     "execution_count": 202,
     "metadata": {},
     "output_type": "execute_result"
    },
    {
     "data": {
      "image/png": "[encoded data removed]",
      "text/plain": [
       "<Figure size 540x540 with 12 Axes>"
      ]
     },
     "metadata": {
      "needs_background": "light"
     },
     "output_type": "display_data"
    }
   ],
   "source": [
    "sns.pairplot(df)"
   ]
  },
  {
   "cell_type": "markdown",
   "id": "256c07ab",
   "metadata": {},
   "source": [
    "Observation -\n",
    "- There is some skewness in data\n",
    "- yrs.service and yrs.since.phd have linear relationship"
   ]
  },
  {
   "cell_type": "markdown",
   "id": "4776674f",
   "metadata": {},
   "source": [
    "# Label Encoding"
   ]
  },
  {
   "cell_type": "markdown",
   "id": "8f991d5d",
   "metadata": {},
   "source": [
    "I choose label encoding to perform encoding of categorical data as the rank, discipline and sex are ordinal in nature"
   ]
  },
  {
   "cell_type": "code",
   "execution_count": 203,
   "id": "93d271c9",
   "metadata": {},
   "outputs": [
    {
     "data": {
      "text/html": [
       "<div>\n",
       "<style scoped>\n",
       "    .dataframe tbody tr th:only-of-type {\n",
       "        vertical-align: middle;\n",
       "    }\n",
       "\n",
       "    .dataframe tbody tr th {\n",
       "        vertical-align: top;\n",
       "    }\n",
       "\n",
       "    .dataframe thead th {\n",
       "        text-align: right;\n",
       "    }\n",
       "</style>\n",
       "<table border=\"1\" class=\"dataframe\">\n",
       "  <thead>\n",
       "    <tr style=\"text-align: right;\">\n",
       "      <th></th>\n",
       "      <th>rank</th>\n",
       "      <th>discipline</th>\n",
       "      <th>yrs.since.phd</th>\n",
       "      <th>yrs.service</th>\n",
       "      <th>sex</th>\n",
       "      <th>salary</th>\n",
       "    </tr>\n",
       "  </thead>\n",
       "  <tbody>\n",
       "    <tr>\n",
       "      <th>0</th>\n",
       "      <td>2</td>\n",
       "      <td>1</td>\n",
       "      <td>19</td>\n",
       "      <td>18</td>\n",
       "      <td>1</td>\n",
       "      <td>139750</td>\n",
       "    </tr>\n",
       "    <tr>\n",
       "      <th>1</th>\n",
       "      <td>2</td>\n",
       "      <td>1</td>\n",
       "      <td>20</td>\n",
       "      <td>16</td>\n",
       "      <td>1</td>\n",
       "      <td>173200</td>\n",
       "    </tr>\n",
       "    <tr>\n",
       "      <th>2</th>\n",
       "      <td>1</td>\n",
       "      <td>1</td>\n",
       "      <td>4</td>\n",
       "      <td>3</td>\n",
       "      <td>1</td>\n",
       "      <td>79750</td>\n",
       "    </tr>\n",
       "    <tr>\n",
       "      <th>3</th>\n",
       "      <td>2</td>\n",
       "      <td>1</td>\n",
       "      <td>45</td>\n",
       "      <td>39</td>\n",
       "      <td>1</td>\n",
       "      <td>115000</td>\n",
       "    </tr>\n",
       "    <tr>\n",
       "      <th>4</th>\n",
       "      <td>2</td>\n",
       "      <td>1</td>\n",
       "      <td>40</td>\n",
       "      <td>41</td>\n",
       "      <td>1</td>\n",
       "      <td>141500</td>\n",
       "    </tr>\n",
       "    <tr>\n",
       "      <th>...</th>\n",
       "      <td>...</td>\n",
       "      <td>...</td>\n",
       "      <td>...</td>\n",
       "      <td>...</td>\n",
       "      <td>...</td>\n",
       "      <td>...</td>\n",
       "    </tr>\n",
       "    <tr>\n",
       "      <th>392</th>\n",
       "      <td>2</td>\n",
       "      <td>0</td>\n",
       "      <td>33</td>\n",
       "      <td>30</td>\n",
       "      <td>1</td>\n",
       "      <td>103106</td>\n",
       "    </tr>\n",
       "    <tr>\n",
       "      <th>393</th>\n",
       "      <td>2</td>\n",
       "      <td>0</td>\n",
       "      <td>31</td>\n",
       "      <td>19</td>\n",
       "      <td>1</td>\n",
       "      <td>150564</td>\n",
       "    </tr>\n",
       "    <tr>\n",
       "      <th>394</th>\n",
       "      <td>2</td>\n",
       "      <td>0</td>\n",
       "      <td>42</td>\n",
       "      <td>25</td>\n",
       "      <td>1</td>\n",
       "      <td>101738</td>\n",
       "    </tr>\n",
       "    <tr>\n",
       "      <th>395</th>\n",
       "      <td>2</td>\n",
       "      <td>0</td>\n",
       "      <td>25</td>\n",
       "      <td>15</td>\n",
       "      <td>1</td>\n",
       "      <td>95329</td>\n",
       "    </tr>\n",
       "    <tr>\n",
       "      <th>396</th>\n",
       "      <td>1</td>\n",
       "      <td>0</td>\n",
       "      <td>8</td>\n",
       "      <td>4</td>\n",
       "      <td>1</td>\n",
       "      <td>81035</td>\n",
       "    </tr>\n",
       "  </tbody>\n",
       "</table>\n",
       "<p>393 rows × 6 columns</p>\n",
       "</div>"
      ],
      "text/plain": [
       "     rank  discipline  yrs.since.phd  yrs.service  sex  salary\n",
       "0       2           1             19           18    1  139750\n",
       "1       2           1             20           16    1  173200\n",
       "2       1           1              4            3    1   79750\n",
       "3       2           1             45           39    1  115000\n",
       "4       2           1             40           41    1  141500\n",
       "..    ...         ...            ...          ...  ...     ...\n",
       "392     2           0             33           30    1  103106\n",
       "393     2           0             31           19    1  150564\n",
       "394     2           0             42           25    1  101738\n",
       "395     2           0             25           15    1   95329\n",
       "396     1           0              8            4    1   81035\n",
       "\n",
       "[393 rows x 6 columns]"
      ]
     },
     "execution_count": 203,
     "metadata": {},
     "output_type": "execute_result"
    }
   ],
   "source": [
    "#make a deep copy of the data frame\n",
    "df_encoded = df.copy(deep=True)\n",
    "\n",
    "label_encoder = preprocessing.LabelEncoder()\n",
    "\n",
    "# Encode labels in column 'Rank'. \n",
    "df_encoded['rank']= label_encoder.fit_transform(df_encoded['rank']) \n",
    "\n",
    "# Encode labels in column 'discipline'. \n",
    "df_encoded['discipline']= label_encoder.fit_transform(df_encoded['discipline']) \n",
    "\n",
    "# Encode labels in column 'Sex'. \n",
    "df_encoded['sex']= label_encoder.fit_transform(df_encoded['sex']) \n",
    "\n",
    "df_encoded\n"
   ]
  },
  {
   "cell_type": "markdown",
   "id": "43fd9a02",
   "metadata": {},
   "source": [
    "Observation- \n",
    "- rank has been encoded as Assoc Prof = 0, Asst Professor = 1, Professor = 2\n",
    "- discipline has been encoded as A = 0, B = 1\n",
    "- sex has been encoded as male = 1, female = 0"
   ]
  },
  {
   "cell_type": "markdown",
   "id": "d9fc1d7c",
   "metadata": {},
   "source": [
    "# Correlation"
   ]
  },
  {
   "cell_type": "code",
   "execution_count": 204,
   "id": "ecb92b93",
   "metadata": {},
   "outputs": [
    {
     "data": {
      "text/html": [
       "<div>\n",
       "<style scoped>\n",
       "    .dataframe tbody tr th:only-of-type {\n",
       "        vertical-align: middle;\n",
       "    }\n",
       "\n",
       "    .dataframe tbody tr th {\n",
       "        vertical-align: top;\n",
       "    }\n",
       "\n",
       "    .dataframe thead th {\n",
       "        text-align: right;\n",
       "    }\n",
       "</style>\n",
       "<table border=\"1\" class=\"dataframe\">\n",
       "  <thead>\n",
       "    <tr style=\"text-align: right;\">\n",
       "      <th></th>\n",
       "      <th>rank</th>\n",
       "      <th>discipline</th>\n",
       "      <th>yrs.since.phd</th>\n",
       "      <th>yrs.service</th>\n",
       "      <th>sex</th>\n",
       "      <th>salary</th>\n",
       "    </tr>\n",
       "  </thead>\n",
       "  <tbody>\n",
       "    <tr>\n",
       "      <th>rank</th>\n",
       "      <td>1.000000</td>\n",
       "      <td>-0.080529</td>\n",
       "      <td>0.522381</td>\n",
       "      <td>0.443792</td>\n",
       "      <td>0.135138</td>\n",
       "      <td>0.519823</td>\n",
       "    </tr>\n",
       "    <tr>\n",
       "      <th>discipline</th>\n",
       "      <td>-0.080529</td>\n",
       "      <td>1.000000</td>\n",
       "      <td>-0.207739</td>\n",
       "      <td>-0.156227</td>\n",
       "      <td>0.000652</td>\n",
       "      <td>0.164018</td>\n",
       "    </tr>\n",
       "    <tr>\n",
       "      <th>yrs.since.phd</th>\n",
       "      <td>0.522381</td>\n",
       "      <td>-0.207739</td>\n",
       "      <td>1.000000</td>\n",
       "      <td>0.908882</td>\n",
       "      <td>0.155373</td>\n",
       "      <td>0.414042</td>\n",
       "    </tr>\n",
       "    <tr>\n",
       "      <th>yrs.service</th>\n",
       "      <td>0.443792</td>\n",
       "      <td>-0.156227</td>\n",
       "      <td>0.908882</td>\n",
       "      <td>1.000000</td>\n",
       "      <td>0.158334</td>\n",
       "      <td>0.329624</td>\n",
       "    </tr>\n",
       "    <tr>\n",
       "      <th>sex</th>\n",
       "      <td>0.135138</td>\n",
       "      <td>0.000652</td>\n",
       "      <td>0.155373</td>\n",
       "      <td>0.158334</td>\n",
       "      <td>1.000000</td>\n",
       "      <td>0.141521</td>\n",
       "    </tr>\n",
       "    <tr>\n",
       "      <th>salary</th>\n",
       "      <td>0.519823</td>\n",
       "      <td>0.164018</td>\n",
       "      <td>0.414042</td>\n",
       "      <td>0.329624</td>\n",
       "      <td>0.141521</td>\n",
       "      <td>1.000000</td>\n",
       "    </tr>\n",
       "  </tbody>\n",
       "</table>\n",
       "</div>"
      ],
      "text/plain": [
       "                   rank  discipline  yrs.since.phd  yrs.service       sex  \\\n",
       "rank           1.000000   -0.080529       0.522381     0.443792  0.135138   \n",
       "discipline    -0.080529    1.000000      -0.207739    -0.156227  0.000652   \n",
       "yrs.since.phd  0.522381   -0.207739       1.000000     0.908882  0.155373   \n",
       "yrs.service    0.443792   -0.156227       0.908882     1.000000  0.158334   \n",
       "sex            0.135138    0.000652       0.155373     0.158334  1.000000   \n",
       "salary         0.519823    0.164018       0.414042     0.329624  0.141521   \n",
       "\n",
       "                 salary  \n",
       "rank           0.519823  \n",
       "discipline     0.164018  \n",
       "yrs.since.phd  0.414042  \n",
       "yrs.service    0.329624  \n",
       "sex            0.141521  \n",
       "salary         1.000000  "
      ]
     },
     "execution_count": 204,
     "metadata": {},
     "output_type": "execute_result"
    }
   ],
   "source": [
    "#lets find out the corelation between data\n",
    "df_encoded.corr()"
   ]
  },
  {
   "cell_type": "code",
   "execution_count": 205,
   "id": "8cc07775",
   "metadata": {},
   "outputs": [
    {
     "data": {
      "text/plain": [
       "<AxesSubplot:>"
      ]
     },
     "execution_count": 205,
     "metadata": {},
     "output_type": "execute_result"
    },
    {
     "data": {
      "image/png": "[encoded data removed]",
      "text/plain": [
       "<Figure size 432x288 with 2 Axes>"
      ]
     },
     "metadata": {
      "needs_background": "light"
     },
     "output_type": "display_data"
    }
   ],
   "source": [
    "sns.heatmap(df_encoded.corr(), annot=True)"
   ]
  },
  {
   "cell_type": "markdown",
   "id": "3d2b5be0",
   "metadata": {},
   "source": [
    "Observation - \n",
    "- phd_years and service_years columns are highly correlated to eachother\n",
    "- sex and salary have least correlation\n",
    "- rank and discipline have least or almost no correlation"
   ]
  },
  {
   "cell_type": "code",
   "execution_count": 206,
   "id": "12a7077f",
   "metadata": {},
   "outputs": [
    {
     "data": {
      "text/plain": [
       "sex              0.141521\n",
       "discipline       0.164018\n",
       "yrs.service      0.329624\n",
       "yrs.since.phd    0.414042\n",
       "rank             0.519823\n",
       "salary           1.000000\n",
       "Name: salary, dtype: float64"
      ]
     },
     "execution_count": 206,
     "metadata": {},
     "output_type": "execute_result"
    }
   ],
   "source": [
    "df_encoded.corr()['salary'].sort_values()"
   ]
  },
  {
   "cell_type": "code",
   "execution_count": 207,
   "id": "2c992fe8",
   "metadata": {},
   "outputs": [
    {
     "data": {
      "image/png": "[encoded data removed]",
      "text/plain": [
       "<Figure size 576x288 with 1 Axes>"
      ]
     },
     "metadata": {
      "needs_background": "light"
     },
     "output_type": "display_data"
    }
   ],
   "source": [
    "plt.figure(figsize=(8,4))\n",
    "df_encoded.corr()['salary'].sort_values(ascending=False).drop(['salary']).plot(kind='bar' ,color='g')\n",
    "plt.xlabel('Feature' ,fontsize=12)\n",
    "plt.ylabel('Correlation',fontsize=12)\n",
    "plt.title('correlation Bar Plot',fontsize=14)\n",
    "plt.show()"
   ]
  },
  {
   "cell_type": "markdown",
   "id": "745f0c9e",
   "metadata": {},
   "source": [
    "Observation-\n",
    "- rank is strongly correlated to salary 51.9%\n",
    "- yrs.since.phd is also strongly corelated to salary 41.4%\n",
    "- yrs.service has a good bond with salary 32.9%\n",
    "- discipline and sex have weak bond with salary 16.4% and 14% respectively"
   ]
  },
  {
   "cell_type": "markdown",
   "id": "3f7fb6ca",
   "metadata": {},
   "source": [
    "# Detecting Multicollinearity with VIF"
   ]
  },
  {
   "cell_type": "markdown",
   "id": "034c5c51",
   "metadata": {},
   "source": [
    "Observed using heatmap that two independent variables yrs.since.phd and yrs.service are highly collinear. Detecting multicollinearlity using VIF Score"
   ]
  },
  {
   "cell_type": "code",
   "execution_count": 208,
   "id": "8735a014",
   "metadata": {},
   "outputs": [
    {
     "name": "stdout",
     "output_type": "stream",
     "text": [
      "         feature        VIF\n",
      "0           rank   8.167260\n",
      "1     discipline   2.479032\n",
      "2  yrs.since.phd  28.241992\n",
      "3    yrs.service  16.979790\n",
      "4            sex   7.436857\n",
      "5         salary  16.804933\n"
     ]
    }
   ],
   "source": [
    "from statsmodels.stats.outliers_influence import variance_inflation_factor\n",
    "# VIF dataframe\n",
    "vif_data = pd.DataFrame()\n",
    "\n",
    "#drop the dependent variable\n",
    "#df_encoded.drop(['salary'],axis=1, inplace=True)\n",
    "\n",
    "vif_data[\"feature\"] = df_encoded.columns\n",
    "vif_data[\"VIF\"] = [variance_inflation_factor(df_encoded.values, i) for i in range(len(df_encoded.columns))]\n",
    "print(vif_data)\n"
   ]
  },
  {
   "cell_type": "markdown",
   "id": "dc4aedf7",
   "metadata": {},
   "source": [
    "VIF values ranging between 1 and 5 are moderate. They represent a medium level of collinearity. Values of more than 5 are highly collinear.\n",
    "\n",
    "Observation-\n",
    "- As VIF score for yrs.since.phd is quite high, we need to drop that column"
   ]
  },
  {
   "cell_type": "code",
   "execution_count": 209,
   "id": "13d39e35",
   "metadata": {},
   "outputs": [
    {
     "name": "stdout",
     "output_type": "stream",
     "text": [
      "       feature        VIF\n",
      "0         rank   7.852594\n",
      "1   discipline   2.365056\n",
      "2  yrs.service   3.786461\n",
      "3          sex   7.422804\n",
      "4       salary  14.983984\n"
     ]
    }
   ],
   "source": [
    "# VIF dataframe\n",
    "vif_data1 = pd.DataFrame()\n",
    "\n",
    "#drop the yrs.since.phd variable\n",
    "df_encoded.drop(['yrs.since.phd'],axis=1, inplace=True)\n",
    "\n",
    "vif_data1[\"feature\"] = df_encoded.columns\n",
    "vif_data1[\"VIF\"] = [variance_inflation_factor(df_encoded.values, i) for i in range(len(df_encoded.columns))]\n",
    "print(vif_data1)"
   ]
  },
  {
   "cell_type": "markdown",
   "id": "e20f42a2",
   "metadata": {},
   "source": [
    "Observation- \n",
    "- By droping yrs.since.phd, VIF score for rest of the features have fallen into moderate range"
   ]
  },
  {
   "cell_type": "markdown",
   "id": "f771b952",
   "metadata": {},
   "source": [
    "# Skewness"
   ]
  },
  {
   "cell_type": "code",
   "execution_count": 210,
   "id": "fc9b1193",
   "metadata": {},
   "outputs": [
    {
     "data": {
      "text/plain": [
       "yrs.service    0.638491\n",
       "salary         0.698471\n",
       "dtype: float64"
      ]
     },
     "execution_count": 210,
     "metadata": {},
     "output_type": "execute_result"
    }
   ],
   "source": [
    "#first drop yrs.since.phd from df\n",
    "df.drop(['yrs.since.phd'],axis=1, inplace=True)\n",
    "\n",
    "df.skew()"
   ]
  },
  {
   "cell_type": "markdown",
   "id": "b647e7cb",
   "metadata": {},
   "source": [
    "Observation- \n",
    "- The acceptable skewness range is +/- 0.5, year.service and salary have little skewed data"
   ]
  },
  {
   "cell_type": "markdown",
   "id": "b8751db9",
   "metadata": {},
   "source": [
    "# Shape of Distribution curve"
   ]
  },
  {
   "cell_type": "code",
   "execution_count": 211,
   "id": "7b073312",
   "metadata": {},
   "outputs": [
    {
     "data": {
      "text/plain": [
       "<AxesSubplot:xlabel='salary', ylabel='Count'>"
      ]
     },
     "execution_count": 211,
     "metadata": {},
     "output_type": "execute_result"
    },
    {
     "data": {
      "image/png": "[encoded data removed]",
      "text/plain": [
       "<Figure size 1440x360 with 2 Axes>"
      ]
     },
     "metadata": {
      "needs_background": "light"
     },
     "output_type": "display_data"
    }
   ],
   "source": [
    "plt.figure(figsize=(20,5))\n",
    "\n",
    "plt.subplot(1,2,1)\n",
    "sns.histplot(data = df, x='yrs.service', color='g',kde=True, element='step')\n",
    "\n",
    "plt.subplot(1,2,2)\n",
    "sns.histplot(data = df, x='salary', color='r',kde=True, element='step')"
   ]
  },
  {
   "cell_type": "markdown",
   "id": "fbda6783",
   "metadata": {},
   "source": [
    "observation - data yrs.service and salary are not normalized, these are a little skewed."
   ]
  },
  {
   "cell_type": "markdown",
   "id": "b3998243",
   "metadata": {},
   "source": [
    "# Data Cleaning"
   ]
  },
  {
   "cell_type": "markdown",
   "id": "354d79ce",
   "metadata": {},
   "source": [
    "yrs.since.phd column has already been dropped because that was causing multicollinearity problem and high VIF score"
   ]
  },
  {
   "cell_type": "markdown",
   "id": "79b88634",
   "metadata": {},
   "source": [
    "# Checking for Outliers"
   ]
  },
  {
   "cell_type": "code",
   "execution_count": 213,
   "id": "6aee96e5",
   "metadata": {},
   "outputs": [
    {
     "data": {
      "text/plain": [
       "<AxesSubplot:xlabel='yrs.service'>"
      ]
     },
     "execution_count": 213,
     "metadata": {},
     "output_type": "execute_result"
    },
    {
     "data": {
      "image/png": "[encoded data removed]",
      "text/plain": [
       "<Figure size 1440x360 with 2 Axes>"
      ]
     },
     "metadata": {
      "needs_background": "light"
     },
     "output_type": "display_data"
    }
   ],
   "source": [
    "plt.figure(figsize=(20,5))\n",
    "\n",
    "plt.subplot(1,2,1)\n",
    "sns.boxplot(x=df_encoded['salary'])\n",
    "plt.subplot(1,2,2)\n",
    "sns.boxplot(x=df_encoded['yrs.service'])"
   ]
  },
  {
   "cell_type": "markdown",
   "id": "b905f4b6",
   "metadata": {},
   "source": [
    "Observation -\n",
    "- both yrs.service and salary has outliers, which need to be removed"
   ]
  },
  {
   "cell_type": "markdown",
   "id": "cf837cc5",
   "metadata": {},
   "source": [
    "# Removing Outliers"
   ]
  },
  {
   "cell_type": "code",
   "execution_count": 224,
   "id": "6a9c0d57",
   "metadata": {},
   "outputs": [
    {
     "data": {
      "text/html": [
       "<div>\n",
       "<style scoped>\n",
       "    .dataframe tbody tr th:only-of-type {\n",
       "        vertical-align: middle;\n",
       "    }\n",
       "\n",
       "    .dataframe tbody tr th {\n",
       "        vertical-align: top;\n",
       "    }\n",
       "\n",
       "    .dataframe thead th {\n",
       "        text-align: right;\n",
       "    }\n",
       "</style>\n",
       "<table border=\"1\" class=\"dataframe\">\n",
       "  <thead>\n",
       "    <tr style=\"text-align: right;\">\n",
       "      <th></th>\n",
       "      <th>yrs.service</th>\n",
       "      <th>salary</th>\n",
       "    </tr>\n",
       "  </thead>\n",
       "  <tbody>\n",
       "    <tr>\n",
       "      <th>0</th>\n",
       "      <td>0.018820</td>\n",
       "      <td>0.851500</td>\n",
       "    </tr>\n",
       "    <tr>\n",
       "      <th>1</th>\n",
       "      <td>-0.135268</td>\n",
       "      <td>1.954661</td>\n",
       "    </tr>\n",
       "    <tr>\n",
       "      <th>2</th>\n",
       "      <td>-1.136841</td>\n",
       "      <td>-1.127264</td>\n",
       "    </tr>\n",
       "    <tr>\n",
       "      <th>3</th>\n",
       "      <td>1.636745</td>\n",
       "      <td>0.035260</td>\n",
       "    </tr>\n",
       "    <tr>\n",
       "      <th>4</th>\n",
       "      <td>1.790834</td>\n",
       "      <td>0.909214</td>\n",
       "    </tr>\n",
       "    <tr>\n",
       "      <th>...</th>\n",
       "      <td>...</td>\n",
       "      <td>...</td>\n",
       "    </tr>\n",
       "    <tr>\n",
       "      <th>392</th>\n",
       "      <td>0.943349</td>\n",
       "      <td>-0.356997</td>\n",
       "    </tr>\n",
       "    <tr>\n",
       "      <th>393</th>\n",
       "      <td>0.095864</td>\n",
       "      <td>1.208140</td>\n",
       "    </tr>\n",
       "    <tr>\n",
       "      <th>394</th>\n",
       "      <td>0.558128</td>\n",
       "      <td>-0.402113</td>\n",
       "    </tr>\n",
       "    <tr>\n",
       "      <th>395</th>\n",
       "      <td>-0.212312</td>\n",
       "      <td>-0.613478</td>\n",
       "    </tr>\n",
       "    <tr>\n",
       "      <th>396</th>\n",
       "      <td>-1.059797</td>\n",
       "      <td>-1.084885</td>\n",
       "    </tr>\n",
       "  </tbody>\n",
       "</table>\n",
       "<p>393 rows × 2 columns</p>\n",
       "</div>"
      ],
      "text/plain": [
       "     yrs.service    salary\n",
       "0       0.018820  0.851500\n",
       "1      -0.135268  1.954661\n",
       "2      -1.136841 -1.127264\n",
       "3       1.636745  0.035260\n",
       "4       1.790834  0.909214\n",
       "..           ...       ...\n",
       "392     0.943349 -0.356997\n",
       "393     0.095864  1.208140\n",
       "394     0.558128 -0.402113\n",
       "395    -0.212312 -0.613478\n",
       "396    -1.059797 -1.084885\n",
       "\n",
       "[393 rows x 2 columns]"
      ]
     },
     "execution_count": 224,
     "metadata": {},
     "output_type": "execute_result"
    }
   ],
   "source": [
    "#using z-score method\n",
    "from scipy.stats import zscore #import zscore from spipy library\n",
    "\n",
    "#lets create a new data_set for calculating zscore\n",
    "df_zs = df_encoded.copy(deep=True)\n",
    "\n",
    "#drop categorical data from df_zs\n",
    "#drop rank, discipline and sex from df_zs\n",
    "df_zs.drop(['rank'],axis=1, inplace=True)\n",
    "df_zs.drop(['discipline'],axis=1, inplace=True)\n",
    "df_zs.drop(['sex'],axis=1, inplace=True)\n",
    "\n",
    "zscore(df_zs)\n"
   ]
  },
  {
   "cell_type": "code",
   "execution_count": 225,
   "id": "f1d04501",
   "metadata": {},
   "outputs": [
    {
     "data": {
      "text/plain": [
       "(393, 2)"
      ]
     },
     "execution_count": 225,
     "metadata": {},
     "output_type": "execute_result"
    }
   ],
   "source": [
    "z = np.abs(zscore(df_zs))\n",
    "z.shape"
   ]
  },
  {
   "cell_type": "code",
   "execution_count": 226,
   "id": "48402b6f",
   "metadata": {},
   "outputs": [
    {
     "data": {
      "text/plain": [
       "(array([ 43, 131, 326, 360], dtype=int64), array([1, 0, 0, 1], dtype=int64))"
      ]
     },
     "execution_count": 226,
     "metadata": {},
     "output_type": "execute_result"
    }
   ],
   "source": [
    "np.where(z>3) #detecting outliers where z>3"
   ]
  },
  {
   "cell_type": "code",
   "execution_count": 227,
   "id": "ff24da3b",
   "metadata": {},
   "outputs": [
    {
     "data": {
      "text/plain": [
       "yrs.service    1.559701\n",
       "salary         3.878844\n",
       "Name: 43, dtype: float64"
      ]
     },
     "execution_count": 227,
     "metadata": {},
     "output_type": "execute_result"
    }
   ],
   "source": [
    "z.iloc[43] #checking one of the detected outliers"
   ]
  },
  {
   "cell_type": "code",
   "execution_count": 228,
   "id": "9581d5da",
   "metadata": {},
   "outputs": [
    {
     "data": {
      "text/plain": [
       "4"
      ]
     },
     "execution_count": 228,
     "metadata": {},
     "output_type": "execute_result"
    }
   ],
   "source": [
    "#checking total number of rows where z>3\n",
    "\n",
    "len(np.where(z>3)[0])"
   ]
  },
  {
   "cell_type": "markdown",
   "id": "8d6f8ff4",
   "metadata": {},
   "source": [
    "length is 4 that means 4 rows out of 393 need to be eliminated from dataframe to normalize it"
   ]
  },
  {
   "cell_type": "code",
   "execution_count": 229,
   "id": "03fd9105",
   "metadata": {},
   "outputs": [
    {
     "name": "stdout",
     "output_type": "stream",
     "text": [
      "Old Data Frame: (393, 5)\n",
      "New Data Frame: (389, 5)\n",
      "Total Dropped Rows: 4\n"
     ]
    }
   ],
   "source": [
    "#removing outliers\n",
    "\n",
    "df_new = df_encoded[(z<3).all(axis=1)]\n",
    "\n",
    "print(\"Old Data Frame:\",df_encoded.shape)\n",
    "print(\"New Data Frame:\",df_new.shape)\n",
    "print(\"Total Dropped Rows:\",df_encoded.shape[0] - df_new.shape[0])"
   ]
  },
  {
   "cell_type": "code",
   "execution_count": 230,
   "id": "0ce636f5",
   "metadata": {},
   "outputs": [
    {
     "name": "stdout",
     "output_type": "stream",
     "text": [
      "Percent Loss:  1.0178117048346056\n"
     ]
    }
   ],
   "source": [
    "#percent loss\n",
    "percent_loss = 4*100/393\n",
    "print(\"Percent Loss: \",percent_loss)"
   ]
  },
  {
   "cell_type": "markdown",
   "id": "a34f9cd6",
   "metadata": {},
   "source": [
    "so hardly 1% data loss is here, which is acceptable"
   ]
  },
  {
   "cell_type": "markdown",
   "id": "bace4c7e",
   "metadata": {},
   "source": [
    "# Testing for Outliers again"
   ]
  },
  {
   "cell_type": "code",
   "execution_count": 239,
   "id": "72241ebb",
   "metadata": {},
   "outputs": [
    {
     "data": {
      "text/plain": [
       "<AxesSubplot:xlabel='yrs.service'>"
      ]
     },
     "execution_count": 239,
     "metadata": {},
     "output_type": "execute_result"
    },
    {
     "data": {
      "image/png": "[encoded data removed]",
      "text/plain": [
       "<Figure size 1440x360 with 2 Axes>"
      ]
     },
     "metadata": {
      "needs_background": "light"
     },
     "output_type": "display_data"
    }
   ],
   "source": [
    "plt.figure(figsize=(20,5))\n",
    "\n",
    "plt.subplot(1,2,1)\n",
    "sns.boxplot(x=df_new['salary'])\n",
    "plt.subplot(1,2,2)\n",
    "sns.boxplot(x=df_new['yrs.service'])"
   ]
  },
  {
   "cell_type": "markdown",
   "id": "20fdbe62",
   "metadata": {},
   "source": [
    "# Data Separation"
   ]
  },
  {
   "cell_type": "code",
   "execution_count": 240,
   "id": "b8ea97cc",
   "metadata": {},
   "outputs": [],
   "source": [
    "#independent variable\n",
    "x = df_new.iloc[:,:-1]\n",
    "x\n",
    "\n",
    "#dependent variable\n",
    "y = df_new.iloc[:,-1]\n"
   ]
  },
  {
   "cell_type": "markdown",
   "id": "8d3dcafe",
   "metadata": {},
   "source": [
    "# Transforming data to remove skewness (Power Transform)"
   ]
  },
  {
   "cell_type": "code",
   "execution_count": 241,
   "id": "6a9f720e",
   "metadata": {},
   "outputs": [
    {
     "data": {
      "text/plain": [
       "numpy.ndarray"
      ]
     },
     "execution_count": 241,
     "metadata": {},
     "output_type": "execute_result"
    }
   ],
   "source": [
    "from sklearn.preprocessing import power_transform\n",
    "\n",
    "x = power_transform(x, method='yeo-johnson')\n",
    "type(x)"
   ]
  },
  {
   "cell_type": "code",
   "execution_count": 242,
   "id": "698bd51b",
   "metadata": {},
   "outputs": [
    {
     "data": {
      "text/plain": [
       "array([[ 0.68488413,  0.9232448 ,  0.25279511,  0.33380918],\n",
       "       [ 0.68488413,  0.9232448 ,  0.10393186,  0.33380918],\n",
       "       [-1.09578732,  0.9232448 , -1.29687045,  0.33380918],\n",
       "       ...,\n",
       "       [ 0.68488413, -1.08313635,  0.71373257,  0.33380918],\n",
       "       [ 0.68488413, -1.08313635,  0.02578726,  0.33380918],\n",
       "       [-1.09578732, -1.08313635, -1.13417006,  0.33380918]])"
      ]
     },
     "execution_count": 242,
     "metadata": {},
     "output_type": "execute_result"
    }
   ],
   "source": [
    "x"
   ]
  },
  {
   "cell_type": "code",
   "execution_count": 243,
   "id": "cb2a84cc",
   "metadata": {},
   "outputs": [
    {
     "data": {
      "text/plain": [
       "2"
      ]
     },
     "execution_count": 243,
     "metadata": {},
     "output_type": "execute_result"
    }
   ],
   "source": [
    "x.ndim"
   ]
  },
  {
   "cell_type": "code",
   "execution_count": 244,
   "id": "22b7c4c8",
   "metadata": {},
   "outputs": [
    {
     "data": {
      "text/plain": [
       "-9.132940048330336e-18"
      ]
     },
     "execution_count": 244,
     "metadata": {},
     "output_type": "execute_result"
    }
   ],
   "source": [
    "x.mean()"
   ]
  },
  {
   "cell_type": "markdown",
   "id": "bf6140e8",
   "metadata": {},
   "source": [
    "So now mean is almost 0"
   ]
  },
  {
   "cell_type": "code",
   "execution_count": 245,
   "id": "00ea3894",
   "metadata": {},
   "outputs": [
    {
     "data": {
      "text/plain": [
       "1.0"
      ]
     },
     "execution_count": 245,
     "metadata": {},
     "output_type": "execute_result"
    }
   ],
   "source": [
    "x.std()"
   ]
  },
  {
   "cell_type": "markdown",
   "id": "b902ca15",
   "metadata": {},
   "source": [
    "and Standard deviation is 1 so data is normalized now"
   ]
  },
  {
   "cell_type": "markdown",
   "id": "8a260507",
   "metadata": {},
   "source": [
    "# Feature Scaling using Standard Scaler"
   ]
  },
  {
   "cell_type": "code",
   "execution_count": 246,
   "id": "badb3b9e",
   "metadata": {},
   "outputs": [
    {
     "data": {
      "text/plain": [
       "array([[ 0.68488413,  0.9232448 ,  0.25279511,  0.33380918],\n",
       "       [ 0.68488413,  0.9232448 ,  0.10393186,  0.33380918],\n",
       "       [-1.09578732,  0.9232448 , -1.29687045,  0.33380918],\n",
       "       ...,\n",
       "       [ 0.68488413, -1.08313635,  0.71373257,  0.33380918],\n",
       "       [ 0.68488413, -1.08313635,  0.02578726,  0.33380918],\n",
       "       [-1.09578732, -1.08313635, -1.13417006,  0.33380918]])"
      ]
     },
     "execution_count": 246,
     "metadata": {},
     "output_type": "execute_result"
    }
   ],
   "source": [
    "from sklearn.preprocessing import StandardScaler\n",
    "sc=StandardScaler()\n",
    "sc.fit_transform(x)\n",
    "x"
   ]
  },
  {
   "cell_type": "markdown",
   "id": "b21a587d",
   "metadata": {},
   "source": [
    "# Training Model using Linear Regression"
   ]
  },
  {
   "cell_type": "code",
   "execution_count": 248,
   "id": "11e727e0",
   "metadata": {},
   "outputs": [],
   "source": [
    "from sklearn.linear_model import LinearRegression\n",
    "from sklearn.metrics import r2_score\n",
    "from sklearn.model_selection import train_test_split\n",
    "\n",
    "lr = LinearRegression()"
   ]
  },
  {
   "cell_type": "code",
   "execution_count": 249,
   "id": "d65bf5da",
   "metadata": {},
   "outputs": [
    {
     "name": "stdout",
     "output_type": "stream",
     "text": [
      "At random state 0, the training accuracy is 0.40388752263824634\n",
      "At random state 0, the testing accuracy is 0.4070003762421768\n",
      "\n",
      "\n",
      "At random state 1, the training accuracy is 0.40021106909266624\n",
      "At random state 1, the testing accuracy is 0.4202229328438879\n",
      "\n",
      "\n",
      "At random state 2, the training accuracy is 0.39552637295323667\n",
      "At random state 2, the testing accuracy is 0.44717161124908067\n",
      "\n",
      "\n",
      "At random state 3, the training accuracy is 0.4043455301381521\n",
      "At random state 3, the testing accuracy is 0.3993906456258063\n",
      "\n",
      "\n",
      "At random state 4, the training accuracy is 0.4250692544035304\n",
      "At random state 4, the testing accuracy is 0.32316742221315\n",
      "\n",
      "\n",
      "At random state 5, the training accuracy is 0.41373644164136236\n",
      "At random state 5, the testing accuracy is 0.34647928009894646\n",
      "\n",
      "\n",
      "At random state 6, the training accuracy is 0.46006570397515145\n",
      "At random state 6, the testing accuracy is 0.1963435993558632\n",
      "\n",
      "\n",
      "At random state 7, the training accuracy is 0.38095306479821067\n",
      "At random state 7, the testing accuracy is 0.5302475045055679\n",
      "\n",
      "\n",
      "At random state 8, the training accuracy is 0.4245823337081912\n",
      "At random state 8, the testing accuracy is 0.2904967436465552\n",
      "\n",
      "\n",
      "At random state 9, the training accuracy is 0.395984735077326\n",
      "At random state 9, the testing accuracy is 0.4332447499511809\n",
      "\n",
      "\n",
      "At random state 10, the training accuracy is 0.4097946892261074\n",
      "At random state 10, the testing accuracy is 0.3525768627861523\n",
      "\n",
      "\n",
      "At random state 11, the training accuracy is 0.4199631349786085\n",
      "At random state 11, the testing accuracy is 0.33385620329265986\n",
      "\n",
      "\n",
      "At random state 12, the training accuracy is 0.4164807185857733\n",
      "At random state 12, the testing accuracy is 0.35797005618552735\n",
      "\n",
      "\n",
      "At random state 13, the training accuracy is 0.3990706524817722\n",
      "At random state 13, the testing accuracy is 0.40336141937089043\n",
      "\n",
      "\n",
      "At random state 14, the training accuracy is 0.39843613838337966\n",
      "At random state 14, the testing accuracy is 0.41630709752732586\n",
      "\n",
      "\n",
      "At random state 15, the training accuracy is 0.384369256439554\n",
      "At random state 15, the testing accuracy is 0.4593277461344998\n",
      "\n",
      "\n",
      "At random state 16, the training accuracy is 0.397412730210578\n",
      "At random state 16, the testing accuracy is 0.4401903699978036\n",
      "\n",
      "\n",
      "At random state 17, the training accuracy is 0.4169780912441222\n",
      "At random state 17, the testing accuracy is 0.3575231220203752\n",
      "\n",
      "\n",
      "At random state 18, the training accuracy is 0.4101229452148467\n",
      "At random state 18, the testing accuracy is 0.37928852857214035\n",
      "\n",
      "\n",
      "At random state 19, the training accuracy is 0.4258149950014516\n",
      "At random state 19, the testing accuracy is 0.3198941689908503\n",
      "\n",
      "\n",
      "At random state 20, the training accuracy is 0.4078842465706116\n",
      "At random state 20, the testing accuracy is 0.3921742254447068\n",
      "\n",
      "\n",
      "At random state 21, the training accuracy is 0.4215308317345874\n",
      "At random state 21, the testing accuracy is 0.30102986485246475\n",
      "\n",
      "\n",
      "At random state 22, the training accuracy is 0.4126580180957593\n",
      "At random state 22, the testing accuracy is 0.36711467808203935\n",
      "\n",
      "\n",
      "At random state 23, the training accuracy is 0.4189148690295684\n",
      "At random state 23, the testing accuracy is 0.32655753025584733\n",
      "\n",
      "\n",
      "At random state 24, the training accuracy is 0.4140514083521619\n",
      "At random state 24, the testing accuracy is 0.3731917616938708\n",
      "\n",
      "\n",
      "At random state 25, the training accuracy is 0.4101164361333698\n",
      "At random state 25, the testing accuracy is 0.3825420270039587\n",
      "\n",
      "\n",
      "At random state 26, the training accuracy is 0.4295860660633217\n",
      "At random state 26, the testing accuracy is 0.30053985762911817\n",
      "\n",
      "\n",
      "At random state 27, the training accuracy is 0.4306494119853931\n",
      "At random state 27, the testing accuracy is 0.3104598929189146\n",
      "\n",
      "\n",
      "At random state 28, the training accuracy is 0.39032946586392336\n",
      "At random state 28, the testing accuracy is 0.4752704782472791\n",
      "\n",
      "\n",
      "At random state 29, the training accuracy is 0.38560989448943594\n",
      "At random state 29, the testing accuracy is 0.4651578842895774\n",
      "\n",
      "\n",
      "At random state 30, the training accuracy is 0.3893563180963958\n",
      "At random state 30, the testing accuracy is 0.4394636471555259\n",
      "\n",
      "\n",
      "At random state 31, the training accuracy is 0.3899913282309714\n",
      "At random state 31, the testing accuracy is 0.45081017316462013\n",
      "\n",
      "\n",
      "At random state 32, the training accuracy is 0.37432568559422674\n",
      "At random state 32, the testing accuracy is 0.5345230441882445\n",
      "\n",
      "\n",
      "At random state 33, the training accuracy is 0.4110462634423061\n",
      "At random state 33, the testing accuracy is 0.3516193514711792\n",
      "\n",
      "\n",
      "At random state 34, the training accuracy is 0.4183529523716578\n",
      "At random state 34, the testing accuracy is 0.31023522526493474\n",
      "\n",
      "\n",
      "At random state 35, the training accuracy is 0.3997015200744911\n",
      "At random state 35, the testing accuracy is 0.41638967402674765\n",
      "\n",
      "\n",
      "At random state 36, the training accuracy is 0.4078400843899994\n",
      "At random state 36, the testing accuracy is 0.3890865946998877\n",
      "\n",
      "\n",
      "At random state 37, the training accuracy is 0.44733789559335124\n",
      "At random state 37, the testing accuracy is 0.2766330287737542\n",
      "\n",
      "\n",
      "At random state 38, the training accuracy is 0.4167437697834555\n",
      "At random state 38, the testing accuracy is 0.34363420803354794\n",
      "\n",
      "\n",
      "At random state 39, the training accuracy is 0.39744390789083983\n",
      "At random state 39, the testing accuracy is 0.4255682793257197\n",
      "\n",
      "\n",
      "At random state 40, the training accuracy is 0.4157304982727298\n",
      "At random state 40, the testing accuracy is 0.33450947016157373\n",
      "\n",
      "\n",
      "At random state 41, the training accuracy is 0.4041540805188071\n",
      "At random state 41, the testing accuracy is 0.40887675979589033\n",
      "\n",
      "\n",
      "At random state 42, the training accuracy is 0.4252108353021561\n",
      "At random state 42, the testing accuracy is 0.30336664436369887\n",
      "\n",
      "\n",
      "At random state 43, the training accuracy is 0.4066906504264729\n",
      "At random state 43, the testing accuracy is 0.35084634288090233\n",
      "\n",
      "\n",
      "At random state 44, the training accuracy is 0.4073031824990575\n",
      "At random state 44, the testing accuracy is 0.368138054908567\n",
      "\n",
      "\n",
      "At random state 45, the training accuracy is 0.4259998906072221\n",
      "At random state 45, the testing accuracy is 0.3221479690412301\n",
      "\n",
      "\n",
      "At random state 46, the training accuracy is 0.40471943351779416\n",
      "At random state 46, the testing accuracy is 0.38759283512268805\n",
      "\n",
      "\n",
      "At random state 47, the training accuracy is 0.4077954221515022\n",
      "At random state 47, the testing accuracy is 0.38746770416966037\n",
      "\n",
      "\n",
      "At random state 48, the training accuracy is 0.4103491113328688\n",
      "At random state 48, the testing accuracy is 0.3565635964087719\n",
      "\n",
      "\n",
      "At random state 49, the training accuracy is 0.38729132236430563\n",
      "At random state 49, the testing accuracy is 0.46395904819673073\n",
      "\n",
      "\n",
      "At random state 50, the training accuracy is 0.4277113654639795\n",
      "At random state 50, the testing accuracy is 0.2791000665552651\n",
      "\n",
      "\n",
      "At random state 51, the training accuracy is 0.3907164395706728\n",
      "At random state 51, the testing accuracy is 0.4505789696576078\n",
      "\n",
      "\n",
      "At random state 52, the training accuracy is 0.40042588671888657\n",
      "At random state 52, the testing accuracy is 0.4185410496021835\n",
      "\n",
      "\n",
      "At random state 53, the training accuracy is 0.40494684326533903\n",
      "At random state 53, the testing accuracy is 0.40319882054587874\n",
      "\n",
      "\n",
      "At random state 54, the training accuracy is 0.3889162318958538\n",
      "At random state 54, the testing accuracy is 0.44829678625546876\n",
      "\n",
      "\n",
      "At random state 55, the training accuracy is 0.40514695941800327\n",
      "At random state 55, the testing accuracy is 0.39659828774228945\n",
      "\n",
      "\n",
      "At random state 56, the training accuracy is 0.417839919579015\n",
      "At random state 56, the testing accuracy is 0.30738698456653046\n",
      "\n",
      "\n",
      "At random state 57, the training accuracy is 0.3927779843669229\n",
      "At random state 57, the testing accuracy is 0.42967187454453737\n",
      "\n",
      "\n",
      "At random state 58, the training accuracy is 0.4198846832499338\n",
      "At random state 58, the testing accuracy is 0.34446184280540515\n",
      "\n",
      "\n",
      "At random state 59, the training accuracy is 0.43006732879356824\n",
      "At random state 59, the testing accuracy is 0.29895598796579215\n",
      "\n",
      "\n",
      "At random state 60, the training accuracy is 0.4260535786695001\n",
      "At random state 60, the testing accuracy is 0.3214934232589082\n",
      "\n",
      "\n",
      "At random state 61, the training accuracy is 0.3970265589800468\n",
      "At random state 61, the testing accuracy is 0.4289525582453113\n",
      "\n",
      "\n",
      "At random state 62, the training accuracy is 0.4073435520175771\n",
      "At random state 62, the testing accuracy is 0.3858217875236366\n",
      "\n",
      "\n",
      "At random state 63, the training accuracy is 0.3986243577346883\n",
      "At random state 63, the testing accuracy is 0.41998615001290995\n",
      "\n",
      "\n",
      "At random state 64, the training accuracy is 0.38767031915605665\n",
      "At random state 64, the testing accuracy is 0.4607336845086467\n",
      "\n",
      "\n",
      "At random state 65, the training accuracy is 0.4107836040599352\n",
      "At random state 65, the testing accuracy is 0.3811440439249574\n",
      "\n",
      "\n",
      "At random state 66, the training accuracy is 0.3918980165033146\n",
      "At random state 66, the testing accuracy is 0.4008214956104821\n",
      "\n",
      "\n",
      "At random state 67, the training accuracy is 0.3819821756307682\n",
      "At random state 67, the testing accuracy is 0.43967118148342677\n",
      "\n",
      "\n",
      "At random state 68, the training accuracy is 0.4043542195374048\n",
      "At random state 68, the testing accuracy is 0.3973245921980295\n",
      "\n",
      "\n",
      "At random state 69, the training accuracy is 0.4168415916180682\n",
      "At random state 69, the testing accuracy is 0.3550390895833315\n",
      "\n",
      "\n",
      "At random state 70, the training accuracy is 0.4087889613042097\n",
      "At random state 70, the testing accuracy is 0.3848546224023067\n",
      "\n",
      "\n",
      "At random state 71, the training accuracy is 0.42503398946519033\n",
      "At random state 71, the testing accuracy is 0.31606783376516967\n",
      "\n",
      "\n",
      "At random state 72, the training accuracy is 0.42179698484228545\n",
      "At random state 72, the testing accuracy is 0.32564795103292044\n",
      "\n",
      "\n",
      "At random state 73, the training accuracy is 0.4171436500286728\n",
      "At random state 73, the testing accuracy is 0.35305334660110765\n",
      "\n",
      "\n",
      "At random state 74, the training accuracy is 0.3821077223812559\n",
      "At random state 74, the testing accuracy is 0.48602267905581764\n",
      "\n",
      "\n",
      "At random state 75, the training accuracy is 0.427100334722889\n",
      "At random state 75, the testing accuracy is 0.3056686080584202\n",
      "\n",
      "\n",
      "At random state 76, the training accuracy is 0.36073148974146474\n",
      "At random state 76, the testing accuracy is 0.5680099962273233\n",
      "\n",
      "\n",
      "At random state 77, the training accuracy is 0.41948732452817217\n",
      "At random state 77, the testing accuracy is 0.2588687365631075\n",
      "\n",
      "\n",
      "At random state 78, the training accuracy is 0.43265314666532984\n",
      "At random state 78, the testing accuracy is 0.29506348481243516\n",
      "\n",
      "\n",
      "At random state 79, the training accuracy is 0.38555543999793784\n",
      "At random state 79, the testing accuracy is 0.48942571370048604\n",
      "\n",
      "\n",
      "At random state 80, the training accuracy is 0.40347364955221865\n",
      "At random state 80, the testing accuracy is 0.3957281940220223\n",
      "\n",
      "\n",
      "At random state 81, the training accuracy is 0.3991993584737462\n",
      "At random state 81, the testing accuracy is 0.42023450555853936\n",
      "\n",
      "\n",
      "At random state 82, the training accuracy is 0.42786501341860395\n",
      "At random state 82, the testing accuracy is 0.3083106622287952\n",
      "\n",
      "\n",
      "At random state 83, the training accuracy is 0.4370656960287711\n",
      "At random state 83, the testing accuracy is 0.2723739785687417\n",
      "\n",
      "\n",
      "At random state 84, the training accuracy is 0.39598583877794713\n",
      "At random state 84, the testing accuracy is 0.4184023543814682\n",
      "\n",
      "\n",
      "At random state 85, the training accuracy is 0.40392276742164523\n",
      "At random state 85, the testing accuracy is 0.37210108761076854\n",
      "\n",
      "\n",
      "At random state 86, the training accuracy is 0.4098000381870728\n",
      "At random state 86, the testing accuracy is 0.3706850170150855\n",
      "\n",
      "\n",
      "At random state 87, the training accuracy is 0.3963978671824626\n",
      "At random state 87, the testing accuracy is 0.41362014323098595\n",
      "\n",
      "\n",
      "At random state 88, the training accuracy is 0.3801827088459554\n",
      "At random state 88, the testing accuracy is 0.4890570768351695\n",
      "\n",
      "\n",
      "At random state 89, the training accuracy is 0.4146722426139241\n",
      "At random state 89, the testing accuracy is 0.362490501023211\n",
      "\n",
      "\n",
      "At random state 90, the training accuracy is 0.43629114084637577\n",
      "At random state 90, the testing accuracy is 0.3033089345085751\n",
      "\n",
      "\n",
      "At random state 91, the training accuracy is 0.4165419149711702\n",
      "At random state 91, the testing accuracy is 0.31546154183406094\n",
      "\n",
      "\n",
      "At random state 92, the training accuracy is 0.4079406064382066\n",
      "At random state 92, the testing accuracy is 0.3850354744376424\n",
      "\n",
      "\n",
      "At random state 93, the training accuracy is 0.4072327725930146\n",
      "At random state 93, the testing accuracy is 0.38827065964521945\n",
      "\n",
      "\n",
      "At random state 94, the training accuracy is 0.40050559668247177\n",
      "At random state 94, the testing accuracy is 0.4024799799681671\n",
      "\n",
      "\n",
      "At random state 95, the training accuracy is 0.424147192813222\n",
      "At random state 95, the testing accuracy is 0.33554066937796956\n",
      "\n",
      "\n",
      "At random state 96, the training accuracy is 0.4083307817421984\n",
      "At random state 96, the testing accuracy is 0.376049746007699\n",
      "\n",
      "\n",
      "At random state 97, the training accuracy is 0.4154219124979289\n",
      "At random state 97, the testing accuracy is 0.3646958417079549\n",
      "\n",
      "\n",
      "At random state 98, the training accuracy is 0.3848088072433993\n",
      "At random state 98, the testing accuracy is 0.47211570349045884\n",
      "\n",
      "\n",
      "At random state 99, the training accuracy is 0.4088005799088754\n",
      "At random state 99, the testing accuracy is 0.3887131633491141\n",
      "\n",
      "\n"
     ]
    }
   ],
   "source": [
    "for i in range(0,100):\n",
    "    x_train, x_test, y_train, y_test = train_test_split(x, y, test_size = 0.2, random_state = i)\n",
    "    lr.fit(x_train, y_train)\n",
    "    pred_train = lr.predict(x_train)\n",
    "    pred_test = lr.predict(x_test)\n",
    "    \n",
    "    print(f\"At random state {i}, the training accuracy is {r2_score(y_train, pred_train)}\")\n",
    "    print(f\"At random state {i}, the testing accuracy is {r2_score(y_test, pred_test)}\")\n",
    "    print(\"\\n\")"
   ]
  },
  {
   "cell_type": "markdown",
   "id": "9857cd69",
   "metadata": {},
   "source": [
    "At random state = 94 training and testing accuracy is 40% approx, so train the model with random state = 94"
   ]
  },
  {
   "cell_type": "code",
   "execution_count": 252,
   "id": "4b8abaf3",
   "metadata": {},
   "outputs": [
    {
     "name": "stdout",
     "output_type": "stream",
     "text": [
      "0.40050559668247177\n",
      "0.4024799799681671\n"
     ]
    }
   ],
   "source": [
    "x_train, x_test, y_train, y_test = train_test_split(x, y, test_size = 0.2, random_state = 94)\n",
    "lr.fit(x_train,y_train)\n",
    "pred_train = lr.predict(x_train)\n",
    "pred_test  = lr.predict(x_test)\n",
    "print(r2_score(y_train, pred_train))\n",
    "print(r2_score(y_test, pred_test))"
   ]
  },
  {
   "cell_type": "markdown",
   "id": "1dc1a5a8",
   "metadata": {},
   "source": [
    "# Cross-validation of model"
   ]
  },
  {
   "cell_type": "code",
   "execution_count": 253,
   "id": "93e722c0",
   "metadata": {},
   "outputs": [
    {
     "name": "stdout",
     "output_type": "stream",
     "text": [
      "At cross fold 2 the cv score is 0.36827499310803424 and accuracy score for training is 0.40050559668247177 and accuracy for testing is 0.4024799799681671\n",
      "\n",
      "\n",
      "At cross fold 3 the cv score is 0.3502248039380218 and accuracy score for training is 0.40050559668247177 and accuracy for testing is 0.4024799799681671\n",
      "\n",
      "\n",
      "At cross fold 4 the cv score is 0.3739452721956479 and accuracy score for training is 0.40050559668247177 and accuracy for testing is 0.4024799799681671\n",
      "\n",
      "\n",
      "At cross fold 5 the cv score is 0.350758896907654 and accuracy score for training is 0.40050559668247177 and accuracy for testing is 0.4024799799681671\n",
      "\n",
      "\n",
      "At cross fold 6 the cv score is 0.37025438426628127 and accuracy score for training is 0.40050559668247177 and accuracy for testing is 0.4024799799681671\n",
      "\n",
      "\n",
      "At cross fold 7 the cv score is 0.3656090666237789 and accuracy score for training is 0.40050559668247177 and accuracy for testing is 0.4024799799681671\n",
      "\n",
      "\n",
      "At cross fold 8 the cv score is 0.37984827002232957 and accuracy score for training is 0.40050559668247177 and accuracy for testing is 0.4024799799681671\n",
      "\n",
      "\n",
      "At cross fold 9 the cv score is 0.3525529784881418 and accuracy score for training is 0.40050559668247177 and accuracy for testing is 0.4024799799681671\n",
      "\n",
      "\n"
     ]
    }
   ],
   "source": [
    "train_accuracy = r2_score(y_train, pred_train)\n",
    "test_accuracy = r2_score(y_test, pred_test)\n",
    "\n",
    "from sklearn.model_selection import cross_val_score\n",
    "for j in range(2,10):\n",
    "    cv_score = cross_val_score(lr,x,y,cv=j)\n",
    "    cv_mean = cv_score.mean()\n",
    "    print(f\"At cross fold {j} the cv score is {cv_mean} and accuracy score for training is {train_accuracy} and accuracy for testing is {test_accuracy}\")\n",
    "    print(\"\\n\")"
   ]
  },
  {
   "cell_type": "markdown",
   "id": "32bb9693",
   "metadata": {},
   "source": [
    "the best CV score is 37.98% at cross fold 8"
   ]
  },
  {
   "cell_type": "markdown",
   "id": "ea1c6ca8",
   "metadata": {},
   "source": [
    "Observation - CV Score - 37.98% and R2 Score = 40%"
   ]
  },
  {
   "cell_type": "code",
   "execution_count": 266,
   "id": "30de3833",
   "metadata": {},
   "outputs": [
    {
     "data": {
      "image/png": "[encoded data removed]",
      "text/plain": [
       "<Figure size 576x432 with 1 Axes>"
      ]
     },
     "metadata": {
      "needs_background": "light"
     },
     "output_type": "display_data"
    }
   ],
   "source": [
    "plt.figure(figsize=(8,6))\n",
    "plt.scatter(x=y_test, y=pred_test, color='r')\n",
    "plt.plot(y_test,y_test, color='b')\n",
    "plt.xlabel('Actual Happiness score', fontsize = 14)\n",
    "plt.ylabel('Predicted Happiness score', fontsize = 14)\n",
    "plt.title('Linear Regression',fontsize=10)\n",
    "plt.show()"
   ]
  },
  {
   "cell_type": "markdown",
   "id": "b9dc1ac2",
   "metadata": {},
   "source": [
    "# Regularization using Lasso"
   ]
  },
  {
   "cell_type": "code",
   "execution_count": 257,
   "id": "da2d0b0c",
   "metadata": {},
   "outputs": [
    {
     "name": "stdout",
     "output_type": "stream",
     "text": [
      "{'alpha': 10, 'random_state': 0}\n"
     ]
    }
   ],
   "source": [
    "from sklearn.model_selection import GridSearchCV\n",
    "from sklearn.linear_model import Lasso\n",
    "parameters = {'alpha' :[.0001, .001, .01, .1, 1, 10], 'random_state':list(range(0,10))}\n",
    "ls = Lasso()\n",
    "clf = GridSearchCV(ls,parameters)\n",
    "clf.fit(x_train,y_train)\n",
    "\n",
    "print(clf.best_params_)"
   ]
  },
  {
   "cell_type": "code",
   "execution_count": 258,
   "id": "655fbda3",
   "metadata": {},
   "outputs": [
    {
     "data": {
      "text/plain": [
       "0.40267230737644755"
      ]
     },
     "execution_count": 258,
     "metadata": {},
     "output_type": "execute_result"
    }
   ],
   "source": [
    "ls = Lasso(alpha=10,random_state=0)\n",
    "ls.fit(x_train,y_train)\n",
    "ls.score(x_train,y_train)\n",
    "pred_ls = ls.predict(x_test)\n",
    "\n",
    "lss = r2_score(y_test,pred_ls)\n",
    "lss"
   ]
  },
  {
   "cell_type": "markdown",
   "id": "dab90ec8",
   "metadata": {},
   "source": [
    "# Cross Validation of the model"
   ]
  },
  {
   "cell_type": "code",
   "execution_count": 260,
   "id": "5d68aa8b",
   "metadata": {},
   "outputs": [
    {
     "data": {
      "text/plain": [
       "0.3507718660797007"
      ]
     },
     "execution_count": 260,
     "metadata": {},
     "output_type": "execute_result"
    }
   ],
   "source": [
    "cv_score=cross_val_score(ls,x,y,cv=5)\n",
    "cv_mean=cv_score.mean()\n",
    "cv_mean"
   ]
  },
  {
   "cell_type": "markdown",
   "id": "9c188e75",
   "metadata": {},
   "source": [
    "Observation -\n",
    "CV Score - 35%, r2_score = 40.26% for lasso"
   ]
  },
  {
   "cell_type": "markdown",
   "id": "86f41d8e",
   "metadata": {},
   "source": [
    "# Ensemble Technique using Random Forest Regressor"
   ]
  },
  {
   "cell_type": "code",
   "execution_count": 262,
   "id": "d7666062",
   "metadata": {},
   "outputs": [
    {
     "name": "stdout",
     "output_type": "stream",
     "text": [
      "{'criterion': 'mae', 'max_features': 'sqrt'}\n"
     ]
    }
   ],
   "source": [
    "from sklearn.ensemble import RandomForestRegressor\n",
    "\n",
    "parameters = {'criterion':['mse', 'mae'],'max_features':[\"auto\", \"sqrt\", \"log2\"]}\n",
    "rf =RandomForestRegressor()\n",
    "clf = GridSearchCV(rf,parameters)\n",
    "clf.fit(x_train,y_train)\n",
    "\n",
    "print(clf.best_params_)"
   ]
  },
  {
   "cell_type": "code",
   "execution_count": 263,
   "id": "f228d020",
   "metadata": {},
   "outputs": [
    {
     "name": "stdout",
     "output_type": "stream",
     "text": [
      "R2 Score: 34.91989108999398\n"
     ]
    }
   ],
   "source": [
    "rf= RandomForestRegressor(criterion=\"mae\",max_features=\"log2\")\n",
    "rf.fit(x_train, y_train)\n",
    "rf.score(x_train, y_train)\n",
    "pred_decision = rf.predict(x_test)\n",
    "\n",
    "rfs = r2_score(y_test,pred_decision)\n",
    "print('R2 Score:',rfs*100)"
   ]
  },
  {
   "cell_type": "markdown",
   "id": "4fc38e3a",
   "metadata": {},
   "source": [
    "# Cross Validation of the model"
   ]
  },
  {
   "cell_type": "code",
   "execution_count": 264,
   "id": "c806c33c",
   "metadata": {},
   "outputs": [
    {
     "name": "stdout",
     "output_type": "stream",
     "text": [
      "Cross Val Score: 25.986156486088024\n"
     ]
    }
   ],
   "source": [
    "rfscore = cross_val_score(rf,x,y,cv=5)\n",
    "rfc = rfscore.mean()\n",
    "print('Cross Val Score:',rfc*100)"
   ]
  },
  {
   "cell_type": "markdown",
   "id": "f73fad8f",
   "metadata": {},
   "source": [
    "Observation -\n",
    "CV Score - 25.98% and R2 Score - 34.91%"
   ]
  },
  {
   "cell_type": "markdown",
   "id": "3e25ed16",
   "metadata": {},
   "source": [
    "AS linear Regression has higher R2 Score and CV Score, saving that as a final model"
   ]
  },
  {
   "cell_type": "markdown",
   "id": "63677958",
   "metadata": {},
   "source": [
    "# Saving the final Model"
   ]
  },
  {
   "cell_type": "code",
   "execution_count": 272,
   "id": "2b96394d",
   "metadata": {},
   "outputs": [],
   "source": [
    "import pickle\n",
    "filename = 'salary_project.pkl'\n",
    "pickle.dump(lr,open(filename,'wb'))"
   ]
  },
  {
   "cell_type": "markdown",
   "id": "82bccaba",
   "metadata": {},
   "source": [
    "# Conclusion"
   ]
  },
  {
   "cell_type": "code",
   "execution_count": 273,
   "id": "e497209a",
   "metadata": {},
   "outputs": [
    {
     "name": "stdout",
     "output_type": "stream",
     "text": [
      "40.24799799681671\n"
     ]
    }
   ],
   "source": [
    "loaded_model = pickle.load(open('salary_project.pkl','rb'))\n",
    "result = loaded_model.score(x_test, y_test)\n",
    "print(result*100)"
   ]
  },
  {
   "cell_type": "code",
   "execution_count": 276,
   "id": "e0d6ec56",
   "metadata": {},
   "outputs": [],
   "source": [
    "conclusion = pd.DataFrame([loaded_model.predict(x_test)[:],y_test[:]],index=['Predicted','Original'])"
   ]
  },
  {
   "cell_type": "code",
   "execution_count": 277,
   "id": "e0c1394e",
   "metadata": {},
   "outputs": [
    {
     "data": {
      "text/html": [
       "<div>\n",
       "<style scoped>\n",
       "    .dataframe tbody tr th:only-of-type {\n",
       "        vertical-align: middle;\n",
       "    }\n",
       "\n",
       "    .dataframe tbody tr th {\n",
       "        vertical-align: top;\n",
       "    }\n",
       "\n",
       "    .dataframe thead th {\n",
       "        text-align: right;\n",
       "    }\n",
       "</style>\n",
       "<table border=\"1\" class=\"dataframe\">\n",
       "  <thead>\n",
       "    <tr style=\"text-align: right;\">\n",
       "      <th></th>\n",
       "      <th>0</th>\n",
       "      <th>1</th>\n",
       "      <th>2</th>\n",
       "      <th>3</th>\n",
       "      <th>4</th>\n",
       "      <th>5</th>\n",
       "      <th>6</th>\n",
       "      <th>7</th>\n",
       "      <th>8</th>\n",
       "      <th>9</th>\n",
       "      <th>...</th>\n",
       "      <th>68</th>\n",
       "      <th>69</th>\n",
       "      <th>70</th>\n",
       "      <th>71</th>\n",
       "      <th>72</th>\n",
       "      <th>73</th>\n",
       "      <th>74</th>\n",
       "      <th>75</th>\n",
       "      <th>76</th>\n",
       "      <th>77</th>\n",
       "    </tr>\n",
       "  </thead>\n",
       "  <tbody>\n",
       "    <tr>\n",
       "      <th>Predicted</th>\n",
       "      <td>136466.473556</td>\n",
       "      <td>133594.352591</td>\n",
       "      <td>92049.928219</td>\n",
       "      <td>133380.096657</td>\n",
       "      <td>90793.932251</td>\n",
       "      <td>120552.666364</td>\n",
       "      <td>80610.907763</td>\n",
       "      <td>133594.352591</td>\n",
       "      <td>133160.014715</td>\n",
       "      <td>90432.463076</td>\n",
       "      <td>...</td>\n",
       "      <td>120739.185838</td>\n",
       "      <td>83561.342793</td>\n",
       "      <td>83561.342793</td>\n",
       "      <td>133380.096657</td>\n",
       "      <td>133160.014715</td>\n",
       "      <td>134777.629501</td>\n",
       "      <td>117915.083154</td>\n",
       "      <td>134006.977282</td>\n",
       "      <td>98921.032936</td>\n",
       "      <td>135488.461415</td>\n",
       "    </tr>\n",
       "    <tr>\n",
       "      <th>Original</th>\n",
       "      <td>152708.000000</td>\n",
       "      <td>155750.000000</td>\n",
       "      <td>95611.000000</td>\n",
       "      <td>129600.000000</td>\n",
       "      <td>100522.000000</td>\n",
       "      <td>103649.000000</td>\n",
       "      <td>74000.000000</td>\n",
       "      <td>117704.000000</td>\n",
       "      <td>193000.000000</td>\n",
       "      <td>95436.000000</td>\n",
       "      <td>...</td>\n",
       "      <td>115800.000000</td>\n",
       "      <td>73000.000000</td>\n",
       "      <td>63900.000000</td>\n",
       "      <td>101000.000000</td>\n",
       "      <td>130664.000000</td>\n",
       "      <td>156938.000000</td>\n",
       "      <td>105668.000000</td>\n",
       "      <td>113398.000000</td>\n",
       "      <td>82379.000000</td>\n",
       "      <td>99418.000000</td>\n",
       "    </tr>\n",
       "  </tbody>\n",
       "</table>\n",
       "<p>2 rows × 78 columns</p>\n",
       "</div>"
      ],
      "text/plain": [
       "                      0              1             2              3   \\\n",
       "Predicted  136466.473556  133594.352591  92049.928219  133380.096657   \n",
       "Original   152708.000000  155750.000000  95611.000000  129600.000000   \n",
       "\n",
       "                      4              5             6              7   \\\n",
       "Predicted   90793.932251  120552.666364  80610.907763  133594.352591   \n",
       "Original   100522.000000  103649.000000  74000.000000  117704.000000   \n",
       "\n",
       "                      8             9   ...             68            69  \\\n",
       "Predicted  133160.014715  90432.463076  ...  120739.185838  83561.342793   \n",
       "Original   193000.000000  95436.000000  ...  115800.000000  73000.000000   \n",
       "\n",
       "                     70             71             72             73  \\\n",
       "Predicted  83561.342793  133380.096657  133160.014715  134777.629501   \n",
       "Original   63900.000000  101000.000000  130664.000000  156938.000000   \n",
       "\n",
       "                      74             75            76             77  \n",
       "Predicted  117915.083154  134006.977282  98921.032936  135488.461415  \n",
       "Original   105668.000000  113398.000000  82379.000000   99418.000000  \n",
       "\n",
       "[2 rows x 78 columns]"
      ]
     },
     "execution_count": 277,
     "metadata": {},
     "output_type": "execute_result"
    }
   ],
   "source": [
    "conclusion"
   ]
  },
  {
   "cell_type": "markdown",
   "id": "22836938",
   "metadata": {},
   "source": [
    "# OUR MODEL IS ONLY 40% ACCURATE"
   ]
  }
 ],
 "metadata": {
  "kernelspec": {
   "display_name": "Python 3 (ipykernel)",
   "language": "python",
   "name": "python3"
  },
  "language_info": {
   "codemirror_mode": {
    "name": "ipython",
    "version": 3
   },
   "file_extension": ".py",
   "mimetype": "text/x-python",
   "name": "python",
   "nbconvert_exporter": "python",
   "pygments_lexer": "ipython3",
   "version": "3.9.7"
  }
 },
 "nbformat": 4,
 "nbformat_minor": 5
}
